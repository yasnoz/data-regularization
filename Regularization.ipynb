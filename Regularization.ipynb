{
 "cells": [
  {
   "cell_type": "markdown",
   "metadata": {},
   "source": [
    "# Regularization"
   ]
  },
  {
   "cell_type": "markdown",
   "metadata": {},
   "source": [
    "Let's improve our understanding of what impacted **Titanic** passengers' chance of survival\n",
    "- We will use logistic classifiers which are easy to interpret\n",
    "- Remember we already did it with statsmodels in lecture \"Decision Science - Logistic Regression\"\n",
    "- We were using `p-values` & statistical assumptions to detect which features were irrelevant / don't generalize\n",
    "- This time, we will use `regularization` to detect relevant/irrelevant features based on under/overfitting criteria\n",
    "- **Our goal is to compare `L1` and `L2` penalties**"
   ]
  },
  {
   "cell_type": "markdown",
   "metadata": {},
   "source": [
    "## 1. We load and preprocess the data for you"
   ]
  },
  {
   "cell_type": "code",
   "execution_count": null,
   "metadata": {},
   "outputs": [],
   "source": [
    "import pandas as pd\n",
    "import numpy as np"
   ]
  },
  {
   "cell_type": "code",
   "execution_count": null,
   "metadata": {},
   "outputs": [],
   "source": [
    "data = pd.read_csv(\"https://wagon-public-datasets.s3.amazonaws.com/Machine%20Learning%20Datasets/ML_titanic_dataset_encoded.csv\")\n",
    "\n",
    "# the dataset is already one-hot-encoded\n",
    "data.head()"
   ]
  },
  {
   "cell_type": "code",
   "execution_count": null,
   "metadata": {},
   "outputs": [],
   "source": [
    "# We build X and y\n",
    "\n",
    "y = data[\"survived\"]\n",
    "X = data.drop(columns=\"survived\")\n",
    "X.head()"
   ]
  },
  {
   "cell_type": "code",
   "execution_count": null,
   "metadata": {},
   "outputs": [],
   "source": [
    "# We MinMaxScale our features for you\n",
    "from sklearn.preprocessing import MinMaxScaler\n",
    "scaler = MinMaxScaler().fit(X)\n",
    "X_scaled = scaler.transform(X)\n",
    "X_scaled = pd.DataFrame(X_scaled, columns=X.columns)\n",
    "X.shape"
   ]
  },
  {
   "cell_type": "markdown",
   "metadata": {},
   "source": [
    "## 1.  Logistic Regression without regularization"
   ]
  },
  {
   "cell_type": "markdown",
   "metadata": {},
   "source": [
    "❓ Rank the features by decreasing order of importance after training a simple **non-regularized** Logistic Regression (i.e. look at the coefficients after fitting)\n",
    "- Careful: `LogisticRegression` is penalized by default\n",
    "  - take a look at the [penalty parameter](https://scikit-learn.org/stable/modules/generated/sklearn.linear_model.LogisticRegression.html) to find out how to remove the penalty)\n",
    "- Increase `max_iter` to a larger number until model converges\n",
    "\n",
    "<details>\n",
    "    <summary>Hint</summary>\n",
    "    <img src=\"https://wagon-public-datasets.s3.amazonaws.com/data-science-images/05-ML/05-Model-Tuning/model_selection.png\" alt=\"penalizing a regression\" width=\"500\" height=\"600\">\n",
    "</details>"
   ]
  },
  {
   "cell_type": "code",
   "execution_count": null,
   "metadata": {
    "tags": [
     "challengify"
    ]
   },
   "outputs": [],
   "source": [
    "# YOUR CODE HERE"
   ]
  },
  {
   "cell_type": "markdown",
   "metadata": {},
   "source": [
    "❓How do you interpret, in plain English, the value for the coefficient `sex_female`?\n",
    "\n",
    "<details>\n",
    "    <summary>Answer</summary>\n",
    "\n",
    "> \"All other things being equal (such as age, ticket class etc...),\n",
    "being a women increases your log-odds of survival by 2.67 (your coef value)\"\n",
    "    \n",
    "> \"Controling for all other explaining factors available in this dataset,\n",
    "being a women increases your odds of survival by exp(2.67) = 14\"\n",
    "\n",
    "</details>\n"
   ]
  },
  {
   "cell_type": "code",
   "execution_count": null,
   "metadata": {},
   "outputs": [],
   "source": []
  },
  {
   "cell_type": "markdown",
   "metadata": {},
   "source": [
    "❓ What is the feature that most impacts the chances of survival according to your model?  \n",
    "Fill the `top_1_feature` list below with the name of this feature"
   ]
  },
  {
   "cell_type": "code",
   "execution_count": null,
   "metadata": {},
   "outputs": [],
   "source": [
    "top_1_feature = [\"\"]"
   ]
  },
  {
   "cell_type": "code",
   "execution_count": null,
   "metadata": {},
   "outputs": [],
   "source": [
    "from nbresult import ChallengeResult\n",
    "result = ChallengeResult('unregularized', top_1_feature = top_1_feature)\n",
    "result.write()\n",
    "print(result.check())"
   ]
  },
  {
   "cell_type": "markdown",
   "metadata": {},
   "source": [
    "## 2.  Logistic Regression with an L2 penalty"
   ]
  },
  {
   "cell_type": "markdown",
   "metadata": {},
   "source": [
    "Let's use a **Logistic model** whose log-loss has been penalized with a **L2** term to figure out the **most important features** without overfitting.  \n",
    "This is the \"classification\" equivalent to the \"Ridge\" regressor"
   ]
  },
  {
   "cell_type": "markdown",
   "metadata": {},
   "source": [
    "❓ Instantiate a **strongly regularized** `LogisticRegression` and rank its features by importance (look at the coefficients)\n",
    "- By \"strongly regularized\" we mean \"more than Sklearn's default regularization factor\". \n",
    "- Sklearn's default values are very useful orders of magnitudes to keep in mind for \"scaled features\""
   ]
  },
  {
   "cell_type": "code",
   "execution_count": null,
   "metadata": {
    "tags": [
     "challengify"
    ]
   },
   "outputs": [],
   "source": [
    "# YOUR CODE HERE"
   ]
  },
  {
   "cell_type": "markdown",
   "metadata": {},
   "source": [
    "❓ What are the top 2 features driving chances of survival according to your model?  \n",
    "Fill the `top_2_features` list below with the name of these features"
   ]
  },
  {
   "cell_type": "code",
   "execution_count": null,
   "metadata": {},
   "outputs": [],
   "source": [
    "top_2_features = [\"\", \"\"]"
   ]
  },
  {
   "cell_type": "markdown",
   "metadata": {},
   "source": [
    "#### 🧪 Test your code below"
   ]
  },
  {
   "cell_type": "code",
   "execution_count": null,
   "metadata": {},
   "outputs": [],
   "source": [
    "from nbresult import ChallengeResult\n",
    "result = ChallengeResult('ridge', top_2 = top_2_features)\n",
    "result.write()\n",
    "print(result.check())"
   ]
  },
  {
   "cell_type": "markdown",
   "metadata": {},
   "source": [
    "## 2. Logistic Regression with an L1 penalty"
   ]
  },
  {
   "cell_type": "markdown",
   "metadata": {},
   "source": [
    "This time, we'll use a logistic model whose log-loss has been penalized with a **L1** term to **filter-out the less important features**.  \n",
    "This is the \"classification\" equivalent to the **Lasso** regressor\n",
    "\n",
    "❓ Instantiate a **strongly regularized** `LogisticRegression` and rank its features by importance"
   ]
  },
  {
   "cell_type": "code",
   "execution_count": null,
   "metadata": {
    "tags": [
     "challengify"
    ]
   },
   "outputs": [],
   "source": [
    "# YOUR CODE HERE"
   ]
  },
  {
   "cell_type": "markdown",
   "metadata": {},
   "source": [
    "❓ What are the features that have absolutely no impact on chances of survival, according to your L1 model?  \n",
    "Fill the `zero_impact_features` list below with the name of these features; you may have to add elements to the list.\n",
    "\n",
    "- Do you notice how some of them were \"highly important\" according to the non-regularized model? \n",
    "- From now on, we will always regularize our linear models!"
   ]
  },
  {
   "cell_type": "code",
   "execution_count": null,
   "metadata": {},
   "outputs": [],
   "source": [
    "zero_impact_features = [\"\", \"\", \"\", \"\"]"
   ]
  },
  {
   "cell_type": "markdown",
   "metadata": {},
   "source": [
    "#### 🧪 Test your code below"
   ]
  },
  {
   "cell_type": "code",
   "execution_count": null,
   "metadata": {},
   "outputs": [],
   "source": [
    "from nbresult import ChallengeResult\n",
    "result = ChallengeResult('lasso', zero_impact_features = zero_impact_features)\n",
    "result.write()\n",
    "print(result.check())"
   ]
  },
  {
   "cell_type": "markdown",
   "metadata": {},
   "source": [
    "**🏁 Congratulation! Don't forget to commit and push your notebook**"
   ]
  }
 ],
 "metadata": {
  "kernelspec": {
   "display_name": "Python 3",
   "language": "python",
   "name": "python3"
  }
 },
 "nbformat": 4,
 "nbformat_minor": 4
}
